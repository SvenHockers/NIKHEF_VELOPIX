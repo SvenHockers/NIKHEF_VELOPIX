{
 "cells": [
  {
   "cell_type": "code",
   "execution_count": null,
   "id": "c72d45f1",
   "metadata": {},
   "outputs": [],
   "source": [
    "def load_events(num_events: int, directory: str = \"./data/raw\") -> list[dict[str, Any]]:\n",
    "    directory = os.path.abspath(directory)\n",
    "    if not os.path.isdir(directory):\n",
    "        logger.error(\n",
    "            \"Cannot load events: directory does not exist -> %s\", directory\n",
    "        )\n",
    "        return []\n",
    "    logger.info(\"Looking for JSON files in directory: %s\", directory)\n",
    "\n",
    "    events: list[dict[str, Any]] = []\n",
    "    for i in range(num_events):\n",
    "        if i == 51:\n",
    "            logger.warning(\"Skipping problematic file: velo_event_%d.json\", i)\n",
    "            continue\n",
    "\n",
    "        filename = f\"velo_event_{i}.json\"\n",
    "        filepath = os.path.join(directory, filename)\n",
    "\n",
    "        try:\n",
    "            with open(filepath, \"r\") as f:\n",
    "                events.append(json.load(f))\n",
    "            logger.info(\"Loaded file: %s\", filename)\n",
    "        except FileNotFoundError:\n",
    "            logger.error(\"File not found: %s\", filepath)\n",
    "        except json.JSONDecodeError as e:\n",
    "            logger.error(\"Invalid JSON in %s: %s\", filepath, e)\n",
    "\n",
    "    return events"
   ]
  }
 ],
 "metadata": {
  "language_info": {
   "name": "python"
  }
 },
 "nbformat": 4,
 "nbformat_minor": 5
}
